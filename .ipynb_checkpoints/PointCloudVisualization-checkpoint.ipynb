{
 "cells": [
  {
   "cell_type": "code",
   "execution_count": 1,
   "metadata": {},
   "outputs": [],
   "source": [
    "import numpy as np\n",
    "import pandas as pd\n",
    "import matplotlib.pyplot as plt\n",
    "import math\n",
    "import utm\n",
    "import csv"
   ]
  },
  {
   "cell_type": "code",
   "execution_count": 2,
   "metadata": {},
   "outputs": [],
   "source": [
    "def readFusedata_toDF(namedf):\n",
    "    data = []    \n",
    "    with open(namedf) as f:  \n",
    "        line = f.readline()\n",
    "        while line:\n",
    "            d = line.split()\n",
    "            data.append(d)\n",
    "            line = f.readline()\n",
    "    a = np.array(data)    \n",
    "    df_PointCloud = pd.DataFrame()\n",
    "    df_PointCloud[\"Latitude\"] = a[:,0]\n",
    "    df_PointCloud[\"Longitude\"] = a[:,1]\n",
    "    df_PointCloud[\"Altitude\"] = a[:,2]\n",
    "    df_PointCloud[\"Intensity\"] = a[:,3]\n",
    "\n",
    "    return df_PointCloud\n",
    "pass"
   ]
  },
  {
   "cell_type": "code",
   "execution_count": 3,
   "metadata": {},
   "outputs": [],
   "source": [
    "def convert_fusedata(df_PointCloud, x_min = 0.0, y_min = 0.0, z_min = 0.0):\n",
    "    df_PointCloud[\"Latitude\"] = pd.to_numeric(df_PointCloud[\"Latitude\"])\n",
    "    df_PointCloud[\"Longitude\"] = pd.to_numeric(df_PointCloud[\"Longitude\"])\n",
    "    df_PointCloud[\"Altitude\"] = pd.to_numeric(df_PointCloud[\"Altitude\"])\n",
    "    df_PointCloud[\"Intensity\"] = pd.to_numeric(df_PointCloud[\"Intensity\"])\n",
    "    df_PointCloud[\"East\"] = df_PointCloud.apply(lambda x: utm.from_latlon(x[\"Latitude\"], x[\"Longitude\"])[0], axis = 1)\n",
    "    df_PointCloud[\"North\"] = df_PointCloud.apply(lambda x: utm.from_latlon(x[\"Latitude\"], x[\"Longitude\"])[1], axis = 1)    \n",
    "    if y_min == 0:\n",
    "        y_min = df_PointCloud[\"North\"].min()\n",
    "    if x_min == 0:\n",
    "        x_min = df_PointCloud[\"East\"].min()   \n",
    "    if z_min == 0:\n",
    "        z_min = df_PointCloud[\"Altitude\"].min()        \n",
    "    utm_coordinates = utm.from_latlon(df_PointCloud.loc[0,\"Latitude\"], df_PointCloud.loc[0,\"Longitude\"])\n",
    "    zoneN = utm_coordinates[2]\n",
    "    zoneL = utm_coordinates[3]        \n",
    "    df_PointCloud[\"East\"] = df_PointCloud[\"East\"] - x_min    \n",
    "    df_PointCloud[\"North\"] = df_PointCloud[\"North\"] - y_min\n",
    "    df_PointCloud[\"Altitude\"] = df_PointCloud[\"Altitude\"] - z_min\n",
    "    \n",
    "    return df_PointCloud, (x_min, y_min, z_min), (zoneN, zoneL)\n",
    "pass"
   ]
  },
  {
   "cell_type": "code",
   "execution_count": null,
   "metadata": {},
   "outputs": [],
   "source": [
    "df_PointCloud = readFusedata_toDF('./final_project_data/final_project_point_cloud.fuse')\n",
    "df_PointCloud, (x_min, y_min, z_min), (number, letter) = convert_fusedata(df_PointCloud)\n",
    "df_xyz = df_PointCloud[[\"East\", \"North\", \"Altitude\", \"Intensity\"]]\n",
    "df_xyz.to_csv(\"./final_project_point_cloud.xyz\", sep=\" \", header=False, index=False)\n",
    "print(\"FIle one Completed!!\")\n",
    "# df_xyz.head()\n",
    "# df_PointCloud.head()"
   ]
  },
  {
   "cell_type": "code",
   "execution_count": null,
   "metadata": {},
   "outputs": [],
   "source": [
    "with open(\"minvalues.csv\", \"w\",newline='') as fp:\n",
    "    wr = csv.writer(fp, delimiter=',')\n",
    "#     wr.writerow([\"x_min\",\"y_min\",\"z_min\"])\n",
    "    wr.writerow([x_min,y_min,z_min])\n",
    "    "
   ]
  }
 ],
 "metadata": {
  "kernelspec": {
   "display_name": "Python 3",
   "language": "python",
   "name": "python3"
  },
  "language_info": {
   "codemirror_mode": {
    "name": "ipython",
    "version": 3
   },
   "file_extension": ".py",
   "mimetype": "text/x-python",
   "name": "python",
   "nbconvert_exporter": "python",
   "pygments_lexer": "ipython3",
   "version": "3.7.6"
  }
 },
 "nbformat": 4,
 "nbformat_minor": 4
}
