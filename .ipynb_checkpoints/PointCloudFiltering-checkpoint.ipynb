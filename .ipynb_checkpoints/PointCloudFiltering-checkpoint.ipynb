{
 "cells": [
  {
   "cell_type": "code",
   "execution_count": 1,
   "metadata": {},
   "outputs": [],
   "source": [
    "import numpy as np\n",
    "import pandas as pd\n",
    "import matplotlib.pyplot as plt\n",
    "import math\n",
    "import utm\n",
    "from shapely import wkt\n",
    "import csv\n",
    "from PointCloudVisualization import convert_fusedata,readFusedata_toDF"
   ]
  },
  {
   "cell_type": "code",
   "execution_count": 2,
   "metadata": {},
   "outputs": [],
   "source": [
    "def readxyz(filename):\n",
    "    data = []\n",
    "    with open(filename) as f: \n",
    "        line = f.readline()\n",
    "        while line:\n",
    "            line = line.rstrip(\"\\n\")\n",
    "            d = line.split(\",\")\n",
    "            data.append(d)\n",
    "            line = f.readline()\n",
    "    a = np.array(data)[0] \n",
    "    x_min = float(a[0])\n",
    "    y_min = float(a[1])\n",
    "    z_min = float(a[2])\n",
    "    \n",
    "    return x_min,y_min,z_min"
   ]
  },
  {
   "cell_type": "code",
   "execution_count": 3,
   "metadata": {},
   "outputs": [],
   "source": [
    "def readXYZdata_toDF(namedf,ignoreline = False, delimeter = \" \"):\n",
    "    data = []    \n",
    "    with open(namedf) as f:  \n",
    "        line = f.readline()            \n",
    "        while line:\n",
    "            if ignoreline == True:\n",
    "                line = f.readline()\n",
    "                ignoreline = False\n",
    "                continue\n",
    "            d = line.split(delimeter)\n",
    "            data.append(d)\n",
    "            line = f.readline()\n",
    "    a = np.array(data)    \n",
    "    df_PointCloud = pd.DataFrame()\n",
    "    df_PointCloud[\"East\"] = pd.to_numeric(a[:,0])\n",
    "    df_PointCloud[\"North\"] = pd.to_numeric(a[:,1])\n",
    "    df_PointCloud[\"Altitude\"] = pd.to_numeric(a[:,2])\n",
    "    df_PointCloud[\"Intensity\"] = pd.to_numeric(a[:,3])\n",
    "\n",
    "    return df_PointCloud\n",
    "pass"
   ]
  },
  {
   "cell_type": "code",
   "execution_count": 4,
   "metadata": {},
   "outputs": [],
   "source": [
    "def shapeConversion(row):\n",
    "    return wkt.loads(\"POINT(\"+str(row[\"East\"])+\" \"+str(row[\"North\"])+\" \" +str(row[\"Altitude\"])+\")\")\n",
    "pass"
   ]
  },
  {
   "cell_type": "code",
   "execution_count": 5,
   "metadata": {},
   "outputs": [],
   "source": [
    "def filtering_byMeanValue(df_PointCloud):\n",
    "    mean = df_PointCloud[\"Intensity\"].mean()\n",
    "    std = df_PointCloud[\"Intensity\"].std()\n",
    "    dfLanes = df_PointCloud[df_PointCloud[\"Intensity\"] > mean + 1 * std]\n",
    "    dfLanes = dfLanes[dfLanes[\"Intensity\"] < mean + 7 * std ]\n",
    "    print(\"Filtering By Mean:\")\n",
    "    print(\"===============================================================================\")\n",
    "    print(\"Mean value for Intensity:      \", mean)\n",
    "    print(\"Std value for Intensity:       \", std)\n",
    "    print(\"Lower bound for Intensity:     \", mean + 1 * std)\n",
    "    print(\"Upper bound for Intensity:     \", mean + 7 * std)\n",
    "    print(\"Filtered points for Intensity: \", len(dfLanes))\n",
    "    print(\"Original points for Intensity: \", len(df_PointCloud))\n",
    "    print(\"Percentage Reduction for Intensity:  \", (len(dfLanes)/len(df_PointCloud))*100)    \n",
    "    return dfLanes\n",
    "pass"
   ]
  },
  {
   "cell_type": "code",
   "execution_count": 6,
   "metadata": {},
   "outputs": [],
   "source": [
    "def getTrajectoryLine(traj_file='./final_project_data/trajectory.fuse',x_min=0.0,y_min=0.0,z_min=0.0):\n",
    "    dfTraj = readFusedata_toDF(traj_file)\n",
    "    x_min,y_min,z_min = readxyz(\"minvalues.csv\")\n",
    "    dfTraj, (x_min,y_min,z_min),(number,letter)=convert_fusedata(dfTraj,x_min,y_min,z_min)\n",
    "    dfTraj[[\"East\", \"North\", \"Altitude\", \"Intensity\"]].to_csv(\"./trajectory.xyz\", index=False)\n",
    "    line = \"LINESTRING(\"\n",
    "    for index,row in dfTraj.iterrows():\n",
    "        line = line + str(row[\"East\"]) + \" \" + str(row[\"North\"]) + \" \" + str(row[\"Altitude\"]) + \", \"\n",
    "    line = line[:-2] + \")\"\n",
    "    trajLine = wkt.loads(line)    \n",
    "    return trajLine, (x_min, y_min, z_min), (number, letter) \n",
    "pass"
   ]
  },
  {
   "cell_type": "code",
   "execution_count": 7,
   "metadata": {},
   "outputs": [],
   "source": [
    "def filter_by_trajLine(df_PointCloud, trajLine):\n",
    "    rows = []\n",
    "    for index, row in df_PointCloud.iterrows():\n",
    "        distance = trajLine.distance(row[\"Shape\"])\n",
    "        if distance <= 20:\n",
    "            rows.append(row)\n",
    "    filtered_dfLanes = pd.DataFrame(rows,columns=['East','North','Altitude','Intensity','Shape'])    \n",
    "    print(\"\\n\\n Filtering By Trajectory:\")\n",
    "    print(\"=================================================================================\")\n",
    "    print(\"Filtered points for Intensity: \", len(filtered_dfLanes))\n",
    "    print(\"Original points for Intensity: \", len(df_PointCloud))\n",
    "    print(\"Percentage Reduction for Intensity:  \", (len(filtered_dfLanes)/len(df_PointCloud))*100)\n",
    "    return filtered_dfLanes\n",
    "pass"
   ]
  },
  {
   "cell_type": "code",
   "execution_count": 8,
   "metadata": {},
   "outputs": [
    {
     "name": "stdout",
     "output_type": "stream",
     "text": [
      "Filtering By Mean:\n",
      "===============================================================================\n",
      "Mean value for Intensity:       8.246153096095984\n",
      "Std value for Intensity:        10.862899760737132\n",
      "Lower bound for Intensity:      19.109052856833117\n",
      "Upper bound for Intensity:      84.2864514212559\n",
      "Filtered points for Intensity:  32191\n",
      "Original points for Intensity:  430736\n",
      "Percentage Reduction for Intensity:   7.473487240444262\n",
      "\n",
      "\n",
      " Filtering By Trajectory:\n",
      "=================================================================================\n",
      "Filtered points for Intensity:  18496\n",
      "Original points for Intensity:  32191\n",
      "Percentage Reduction for Intensity:   57.457053213631134\n"
     ]
    }
   ],
   "source": [
    "def main():\n",
    "    x_min,y_min,z_min = readxyz(\"minvalues.csv\")\n",
    "    trajLine,(x_min, y_min, z_min),(number, letter)=getTrajectoryLine('./final_project_data/trajectory.fuse',x_min, y_min, z_min)\n",
    "    dfLanes = readXYZdata_toDF('./final_project_point_cloud.xyz')\n",
    "    dfLanes = filtering_byMeanValue(dfLanes)\n",
    "    dfLanes[['East', 'North', 'Altitude', 'Intensity']].to_csv(\"./filter_mean.xyz\", index=False)\n",
    "    dfLanes['Shape'] = dfLanes.apply(shapeConversion, axis=1)\n",
    "    dfLanes = filter_by_trajLine(dfLanes, trajLine)\n",
    "    dfLanes[['East', 'North', 'Altitude', 'Intensity']].to_csv(\"./filter_trajectory.xyz\", index=False)\n",
    "    with open(\"minvalues1.csv\", \"w\",newline='') as fp:\n",
    "        wr = csv.writer(fp, delimiter=',')\n",
    "    #     wr.writerow([\"x_min\",\"y_min\",\"z_min\"])\n",
    "        wr.writerow([x_min,y_min,z_min,number, letter])\n",
    "    pass\n",
    "\n",
    "\n",
    "\n",
    "if __name__ == \"__main__\":\n",
    "   # stuff only to run when not called via 'import' here\n",
    "   main()"
   ]
  },
  {
   "cell_type": "code",
   "execution_count": null,
   "metadata": {},
   "outputs": [],
   "source": []
  }
 ],
 "metadata": {
  "kernelspec": {
   "display_name": "Python 3",
   "language": "python",
   "name": "python3"
  },
  "language_info": {
   "codemirror_mode": {
    "name": "ipython",
    "version": 3
   },
   "file_extension": ".py",
   "mimetype": "text/x-python",
   "name": "python",
   "nbconvert_exporter": "python",
   "pygments_lexer": "ipython3",
   "version": "3.7.6"
  }
 },
 "nbformat": 4,
 "nbformat_minor": 4
}
